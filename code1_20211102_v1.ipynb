{
 "cells": [
  {
   "cell_type": "code",
   "execution_count": 375,
   "id": "bb14c482-7988-4057-b71c-c84dc345d674",
   "metadata": {},
   "outputs": [],
   "source": [
    "import copy\n",
    "import numpy as np\n",
    "import pandas as pd\n",
    "from matplotlib import pyplot as plt\n",
    "\n",
    "from sklearn.preprocessing import LabelEncoder\n",
    "from sklearn.preprocessing import StandardScaler\n",
    "\n",
    "from sklearn.model_selection import train_test_split\n",
    "from sklearn.metrics import accuracy_score, confusion_matrix\n",
    "from sklearn.metrics import plot_confusion_matrix\n",
    "\n",
    "from sklearn.tree import DecisionTreeClassifier\n",
    "from sklearn.ensemble import RandomForestClassifier\n",
    "from sklearn.ensemble import GradientBoostingClassifier"
   ]
  },
  {
   "cell_type": "markdown",
   "id": "a20604a4-5f67-44ca-8225-420e1a97d76f",
   "metadata": {},
   "source": [
    "# Description\n",
    "## 1. accuracy\n",
    "    - v1 : 순정\n",
    "        DecisionTree : 0.69\n",
    "        RandomForest : 0.71\n",
    "        GradientBoost : 0.69\n",
    "    - v2 : 변수선택 및 타입조절\n",
    "        DecisionTree : 0.69\n",
    "        RandomForest : 0.71\n",
    "        GradientBoost : 0.69"
   ]
  },
  {
   "cell_type": "markdown",
   "id": "5b6db788-8a2d-4c47-b9f9-16fb180e51c2",
   "metadata": {},
   "source": [
    "## data load and wrangling"
   ]
  },
  {
   "cell_type": "code",
   "execution_count": 376,
   "id": "de24787c-23b5-44cd-8064-ac187618062b",
   "metadata": {},
   "outputs": [],
   "source": [
    "train = pd.read_csv('./input/235713_신용카드 사용자 연체 예측 AI 경진대회_data/open/train.csv')\n",
    "test = pd.read_csv('./input/235713_신용카드 사용자 연체 예측 AI 경진대회_data/open/test.csv')\n",
    "sub = pd.read_csv('./input/235713_신용카드 사용자 연체 예측 AI 경진대회_data/open/sample_submission.csv')"
   ]
  },
  {
   "cell_type": "code",
   "execution_count": 377,
   "id": "644caf8d-25fd-4b1e-bba5-ab7de00188ca",
   "metadata": {},
   "outputs": [
    {
     "data": {
      "text/plain": [
       "(26457, 20)"
      ]
     },
     "execution_count": 377,
     "metadata": {},
     "output_type": "execute_result"
    }
   ],
   "source": [
    "train.shape\n",
    "# train.isnull().sum()"
   ]
  },
  {
   "cell_type": "code",
   "execution_count": 378,
   "id": "5adc99bf-c56e-4316-8c12-e02980317196",
   "metadata": {},
   "outputs": [
    {
     "data": {
      "text/plain": [
       "index              int64\n",
       "gender            object\n",
       "car               object\n",
       "reality           object\n",
       "child_num          int64\n",
       "income_total     float64\n",
       "income_type       object\n",
       "edu_type          object\n",
       "family_type       object\n",
       "house_type        object\n",
       "DAYS_BIRTH         int64\n",
       "DAYS_EMPLOYED      int64\n",
       "FLAG_MOBIL         int64\n",
       "work_phone         int64\n",
       "phone              int64\n",
       "email              int64\n",
       "occyp_type        object\n",
       "family_size      float64\n",
       "begin_month      float64\n",
       "credit           float64\n",
       "dtype: object"
      ]
     },
     "execution_count": 378,
     "metadata": {},
     "output_type": "execute_result"
    }
   ],
   "source": [
    "train.nunique()\n",
    "train.dtypes\n",
    "\n",
    "# train_x.isnull().sum()"
   ]
  },
  {
   "cell_type": "markdown",
   "id": "25a38805-c36b-4afe-8a8c-619cf2345ed8",
   "metadata": {},
   "source": [
    "### 1. EDA"
   ]
  },
  {
   "cell_type": "code",
   "execution_count": 379,
   "id": "3351bea9-869c-415f-b1dd-1f536a366f47",
   "metadata": {},
   "outputs": [
    {
     "data": {
      "text/plain": [
       "Index(['index', 'gender', 'car', 'reality', 'income_type', 'edu_type',\n",
       "       'family_type', 'house_type', 'occyp_type', 'credit'],\n",
       "      dtype='object')"
      ]
     },
     "execution_count": 379,
     "metadata": {},
     "output_type": "execute_result"
    }
   ],
   "source": [
    "nm_y = ['credit']\n",
    "nm_num = ['child_num', 'income_total', 'DAYS_BIRTH', 'DAYS_EMPLOYED', 'FLAG_MOBIL', \n",
    "          'work_phone', 'phone', 'email', 'family_size', 'begin_month']\n",
    "nm_str = train.columns.drop(nm_num)\n",
    "nm_str"
   ]
  },
  {
   "cell_type": "code",
   "execution_count": 380,
   "id": "33ecb0a5-fdb4-4c46-8f62-e9d91474b2e1",
   "metadata": {},
   "outputs": [
    {
     "data": {
      "text/plain": [
       "N    6204\n",
       "Y    3796\n",
       "Name: car, dtype: int64"
      ]
     },
     "execution_count": 380,
     "metadata": {},
     "output_type": "execute_result"
    }
   ],
   "source": [
    "train[nm_str].head(5)\n",
    "train[nm_str].nunique()\n",
    "\n",
    "train['car'].value_counts()\n",
    "# train['income_type'].value_counts()\n",
    "# train['edu_type'].value_counts()\n",
    "# train['family_type'].value_counts()\n",
    "# train['house_type'].value_counts()\n",
    "\n",
    "test['car'].value_counts()\n",
    "# test['income_type'].value_counts()\n",
    "# test['edu_type'].value_counts()\n",
    "# test['family_type'].value_counts()\n",
    "# test['house_type'].value_counts()"
   ]
  },
  {
   "cell_type": "code",
   "execution_count": 381,
   "id": "0c3dbf3b-6285-440e-bb33-c9ea36dff73f",
   "metadata": {},
   "outputs": [
    {
     "data": {
      "text/plain": [
       "index          26457\n",
       "gender             2\n",
       "car                2\n",
       "reality            2\n",
       "income_type        5\n",
       "edu_type           5\n",
       "family_type        5\n",
       "house_type         6\n",
       "occyp_type        18\n",
       "credit             3\n",
       "dtype: int64"
      ]
     },
     "execution_count": 381,
     "metadata": {},
     "output_type": "execute_result"
    }
   ],
   "source": [
    "train[nm_str].nunique()\n",
    "# test[nm_str].nunique()"
   ]
  },
  {
   "cell_type": "markdown",
   "id": "33c32890-d482-4921-9ddb-dd4bc10679da",
   "metadata": {},
   "source": [
    "#### 1-1. numeric"
   ]
  },
  {
   "cell_type": "code",
   "execution_count": 382,
   "id": "a27823f7-3a57-4c6a-beb9-6fc54e78a006",
   "metadata": {},
   "outputs": [
    {
     "data": {
      "text/html": [
       "<div>\n",
       "<style scoped>\n",
       "    .dataframe tbody tr th:only-of-type {\n",
       "        vertical-align: middle;\n",
       "    }\n",
       "\n",
       "    .dataframe tbody tr th {\n",
       "        vertical-align: top;\n",
       "    }\n",
       "\n",
       "    .dataframe thead th {\n",
       "        text-align: right;\n",
       "    }\n",
       "</style>\n",
       "<table border=\"1\" class=\"dataframe\">\n",
       "  <thead>\n",
       "    <tr style=\"text-align: right;\">\n",
       "      <th></th>\n",
       "      <th>child_num</th>\n",
       "      <th>income_total</th>\n",
       "      <th>DAYS_BIRTH</th>\n",
       "      <th>DAYS_EMPLOYED</th>\n",
       "      <th>FLAG_MOBIL</th>\n",
       "      <th>work_phone</th>\n",
       "      <th>phone</th>\n",
       "      <th>email</th>\n",
       "      <th>family_size</th>\n",
       "      <th>begin_month</th>\n",
       "    </tr>\n",
       "  </thead>\n",
       "  <tbody>\n",
       "    <tr>\n",
       "      <th>0</th>\n",
       "      <td>0</td>\n",
       "      <td>202500.0</td>\n",
       "      <td>-13899</td>\n",
       "      <td>-4709</td>\n",
       "      <td>1</td>\n",
       "      <td>0</td>\n",
       "      <td>0</td>\n",
       "      <td>0</td>\n",
       "      <td>2.0</td>\n",
       "      <td>-6.0</td>\n",
       "    </tr>\n",
       "    <tr>\n",
       "      <th>1</th>\n",
       "      <td>1</td>\n",
       "      <td>247500.0</td>\n",
       "      <td>-11380</td>\n",
       "      <td>-1540</td>\n",
       "      <td>1</td>\n",
       "      <td>0</td>\n",
       "      <td>0</td>\n",
       "      <td>1</td>\n",
       "      <td>3.0</td>\n",
       "      <td>-5.0</td>\n",
       "    </tr>\n",
       "    <tr>\n",
       "      <th>2</th>\n",
       "      <td>0</td>\n",
       "      <td>450000.0</td>\n",
       "      <td>-19087</td>\n",
       "      <td>-4434</td>\n",
       "      <td>1</td>\n",
       "      <td>0</td>\n",
       "      <td>1</td>\n",
       "      <td>0</td>\n",
       "      <td>2.0</td>\n",
       "      <td>-22.0</td>\n",
       "    </tr>\n",
       "    <tr>\n",
       "      <th>3</th>\n",
       "      <td>0</td>\n",
       "      <td>202500.0</td>\n",
       "      <td>-15088</td>\n",
       "      <td>-2092</td>\n",
       "      <td>1</td>\n",
       "      <td>0</td>\n",
       "      <td>1</td>\n",
       "      <td>0</td>\n",
       "      <td>2.0</td>\n",
       "      <td>-37.0</td>\n",
       "    </tr>\n",
       "    <tr>\n",
       "      <th>4</th>\n",
       "      <td>0</td>\n",
       "      <td>157500.0</td>\n",
       "      <td>-15037</td>\n",
       "      <td>-2105</td>\n",
       "      <td>1</td>\n",
       "      <td>0</td>\n",
       "      <td>0</td>\n",
       "      <td>0</td>\n",
       "      <td>2.0</td>\n",
       "      <td>-26.0</td>\n",
       "    </tr>\n",
       "  </tbody>\n",
       "</table>\n",
       "</div>"
      ],
      "text/plain": [
       "   child_num  income_total  DAYS_BIRTH  DAYS_EMPLOYED  FLAG_MOBIL  work_phone  \\\n",
       "0          0      202500.0      -13899          -4709           1           0   \n",
       "1          1      247500.0      -11380          -1540           1           0   \n",
       "2          0      450000.0      -19087          -4434           1           0   \n",
       "3          0      202500.0      -15088          -2092           1           0   \n",
       "4          0      157500.0      -15037          -2105           1           0   \n",
       "\n",
       "   phone  email  family_size  begin_month  \n",
       "0      0      0          2.0         -6.0  \n",
       "1      0      1          3.0         -5.0  \n",
       "2      1      0          2.0        -22.0  \n",
       "3      1      0          2.0        -37.0  \n",
       "4      0      0          2.0        -26.0  "
      ]
     },
     "execution_count": 382,
     "metadata": {},
     "output_type": "execute_result"
    }
   ],
   "source": [
    "train[nm_num].head()"
   ]
  },
  {
   "cell_type": "code",
   "execution_count": 383,
   "id": "f68a8279-e31e-43bc-8942-6fca90d6285b",
   "metadata": {},
   "outputs": [
    {
     "data": {
      "text/html": [
       "<div>\n",
       "<style scoped>\n",
       "    .dataframe tbody tr th:only-of-type {\n",
       "        vertical-align: middle;\n",
       "    }\n",
       "\n",
       "    .dataframe tbody tr th {\n",
       "        vertical-align: top;\n",
       "    }\n",
       "\n",
       "    .dataframe thead th {\n",
       "        text-align: right;\n",
       "    }\n",
       "</style>\n",
       "<table border=\"1\" class=\"dataframe\">\n",
       "  <thead>\n",
       "    <tr style=\"text-align: right;\">\n",
       "      <th></th>\n",
       "      <th>child_num</th>\n",
       "      <th>income_total</th>\n",
       "      <th>DAYS_BIRTH</th>\n",
       "      <th>DAYS_EMPLOYED</th>\n",
       "      <th>FLAG_MOBIL</th>\n",
       "      <th>work_phone</th>\n",
       "      <th>phone</th>\n",
       "      <th>email</th>\n",
       "      <th>family_size</th>\n",
       "      <th>begin_month</th>\n",
       "    </tr>\n",
       "  </thead>\n",
       "  <tbody>\n",
       "    <tr>\n",
       "      <th>count</th>\n",
       "      <td>26457.000000</td>\n",
       "      <td>2.645700e+04</td>\n",
       "      <td>26457.000000</td>\n",
       "      <td>26457.000000</td>\n",
       "      <td>26457.0</td>\n",
       "      <td>26457.000000</td>\n",
       "      <td>26457.000000</td>\n",
       "      <td>26457.000000</td>\n",
       "      <td>26457.000000</td>\n",
       "      <td>26457.000000</td>\n",
       "    </tr>\n",
       "    <tr>\n",
       "      <th>mean</th>\n",
       "      <td>0.428658</td>\n",
       "      <td>1.873065e+05</td>\n",
       "      <td>-15958.053899</td>\n",
       "      <td>59068.750728</td>\n",
       "      <td>1.0</td>\n",
       "      <td>0.224742</td>\n",
       "      <td>0.294251</td>\n",
       "      <td>0.091280</td>\n",
       "      <td>2.196848</td>\n",
       "      <td>-26.123294</td>\n",
       "    </tr>\n",
       "    <tr>\n",
       "      <th>std</th>\n",
       "      <td>0.747326</td>\n",
       "      <td>1.018784e+05</td>\n",
       "      <td>4201.589022</td>\n",
       "      <td>137475.427503</td>\n",
       "      <td>0.0</td>\n",
       "      <td>0.417420</td>\n",
       "      <td>0.455714</td>\n",
       "      <td>0.288013</td>\n",
       "      <td>0.916717</td>\n",
       "      <td>16.559550</td>\n",
       "    </tr>\n",
       "    <tr>\n",
       "      <th>min</th>\n",
       "      <td>0.000000</td>\n",
       "      <td>2.700000e+04</td>\n",
       "      <td>-25152.000000</td>\n",
       "      <td>-15713.000000</td>\n",
       "      <td>1.0</td>\n",
       "      <td>0.000000</td>\n",
       "      <td>0.000000</td>\n",
       "      <td>0.000000</td>\n",
       "      <td>1.000000</td>\n",
       "      <td>-60.000000</td>\n",
       "    </tr>\n",
       "    <tr>\n",
       "      <th>25%</th>\n",
       "      <td>0.000000</td>\n",
       "      <td>1.215000e+05</td>\n",
       "      <td>-19431.000000</td>\n",
       "      <td>-3153.000000</td>\n",
       "      <td>1.0</td>\n",
       "      <td>0.000000</td>\n",
       "      <td>0.000000</td>\n",
       "      <td>0.000000</td>\n",
       "      <td>2.000000</td>\n",
       "      <td>-39.000000</td>\n",
       "    </tr>\n",
       "    <tr>\n",
       "      <th>50%</th>\n",
       "      <td>0.000000</td>\n",
       "      <td>1.575000e+05</td>\n",
       "      <td>-15547.000000</td>\n",
       "      <td>-1539.000000</td>\n",
       "      <td>1.0</td>\n",
       "      <td>0.000000</td>\n",
       "      <td>0.000000</td>\n",
       "      <td>0.000000</td>\n",
       "      <td>2.000000</td>\n",
       "      <td>-24.000000</td>\n",
       "    </tr>\n",
       "    <tr>\n",
       "      <th>75%</th>\n",
       "      <td>1.000000</td>\n",
       "      <td>2.250000e+05</td>\n",
       "      <td>-12446.000000</td>\n",
       "      <td>-407.000000</td>\n",
       "      <td>1.0</td>\n",
       "      <td>0.000000</td>\n",
       "      <td>1.000000</td>\n",
       "      <td>0.000000</td>\n",
       "      <td>3.000000</td>\n",
       "      <td>-12.000000</td>\n",
       "    </tr>\n",
       "    <tr>\n",
       "      <th>max</th>\n",
       "      <td>19.000000</td>\n",
       "      <td>1.575000e+06</td>\n",
       "      <td>-7705.000000</td>\n",
       "      <td>365243.000000</td>\n",
       "      <td>1.0</td>\n",
       "      <td>1.000000</td>\n",
       "      <td>1.000000</td>\n",
       "      <td>1.000000</td>\n",
       "      <td>20.000000</td>\n",
       "      <td>0.000000</td>\n",
       "    </tr>\n",
       "  </tbody>\n",
       "</table>\n",
       "</div>"
      ],
      "text/plain": [
       "          child_num  income_total    DAYS_BIRTH  DAYS_EMPLOYED  FLAG_MOBIL  \\\n",
       "count  26457.000000  2.645700e+04  26457.000000   26457.000000     26457.0   \n",
       "mean       0.428658  1.873065e+05 -15958.053899   59068.750728         1.0   \n",
       "std        0.747326  1.018784e+05   4201.589022  137475.427503         0.0   \n",
       "min        0.000000  2.700000e+04 -25152.000000  -15713.000000         1.0   \n",
       "25%        0.000000  1.215000e+05 -19431.000000   -3153.000000         1.0   \n",
       "50%        0.000000  1.575000e+05 -15547.000000   -1539.000000         1.0   \n",
       "75%        1.000000  2.250000e+05 -12446.000000    -407.000000         1.0   \n",
       "max       19.000000  1.575000e+06  -7705.000000  365243.000000         1.0   \n",
       "\n",
       "         work_phone         phone         email   family_size   begin_month  \n",
       "count  26457.000000  26457.000000  26457.000000  26457.000000  26457.000000  \n",
       "mean       0.224742      0.294251      0.091280      2.196848    -26.123294  \n",
       "std        0.417420      0.455714      0.288013      0.916717     16.559550  \n",
       "min        0.000000      0.000000      0.000000      1.000000    -60.000000  \n",
       "25%        0.000000      0.000000      0.000000      2.000000    -39.000000  \n",
       "50%        0.000000      0.000000      0.000000      2.000000    -24.000000  \n",
       "75%        0.000000      1.000000      0.000000      3.000000    -12.000000  \n",
       "max        1.000000      1.000000      1.000000     20.000000      0.000000  "
      ]
     },
     "execution_count": 383,
     "metadata": {},
     "output_type": "execute_result"
    }
   ],
   "source": [
    "train[nm_num].describe()"
   ]
  },
  {
   "cell_type": "markdown",
   "id": "4219fb58-e344-4eff-8215-c67d8dbfe0c6",
   "metadata": {},
   "source": [
    "1. 'work_phone', 'phone', 'email'은 최소가 0, 최대가 1인 값이다. -> categorical로 처리.\n",
    "\n",
    "2. 'FLAG_MOBIL'는 모든 값이 1이다. -> Feature로서 의미가 없으므로 제외\n",
    "\n",
    "3. 'child_num'은 Q3가 1인데, max는 19이다. 19가 이상치가 아닌지 의심해볼 필요가 있다.\n",
    "\n",
    "4. 'family_size'도 마찬가지이다.\n",
    "\n",
    "5. 'DAYS_EMPLOYED' 변수는 양수가 없을텐데 최대값이 양수다."
   ]
  },
  {
   "cell_type": "code",
   "execution_count": 384,
   "id": "5153f2c1-dee5-4c6b-8c61-16d89513e2db",
   "metadata": {},
   "outputs": [
    {
     "data": {
      "text/plain": [
       "1    26457\n",
       "Name: FLAG_MOBIL, dtype: int64"
      ]
     },
     "execution_count": 384,
     "metadata": {},
     "output_type": "execute_result"
    }
   ],
   "source": [
    "#확인\n",
    "train['email'].value_counts()\n",
    "train['FLAG_MOBIL'].value_counts()"
   ]
  },
  {
   "cell_type": "code",
   "execution_count": 385,
   "id": "33b88da3-8700-43d3-9518-fbf864d909a5",
   "metadata": {},
   "outputs": [
    {
     "data": {
      "text/plain": [
       "(0     18340\n",
       " 1      5386\n",
       " 2      2362\n",
       " 3       306\n",
       " 4        47\n",
       " 5        10\n",
       " 14        3\n",
       " 7         2\n",
       " 19        1\n",
       " Name: child_num, dtype: int64,\n",
       " 0    6861\n",
       " 1    2106\n",
       " 2     894\n",
       " 3     113\n",
       " 4      16\n",
       " 5      10\n",
       " Name: child_num, dtype: int64)"
      ]
     },
     "execution_count": 385,
     "metadata": {},
     "output_type": "execute_result"
    }
   ],
   "source": [
    "train['child_num'].value_counts(), test['child_num'].value_counts()\n",
    "# 'child_num'이 14인 3명과, 19인 1명은 제외한다."
   ]
  },
  {
   "cell_type": "code",
   "execution_count": 386,
   "id": "db9997d2-d92e-47bd-b64b-e0e1c50c04a8",
   "metadata": {},
   "outputs": [
    {
     "data": {
      "text/plain": [
       "(2.0     14106\n",
       " 1.0      5109\n",
       " 3.0      4632\n",
       " 4.0      2260\n",
       " 5.0       291\n",
       " 6.0        44\n",
       " 7.0         9\n",
       " 15.0        3\n",
       " 9.0         2\n",
       " 20.0        1\n",
       " Name: family_size, dtype: int64,\n",
       " 2.0    5357\n",
       " 1.0    1878\n",
       " 3.0    1789\n",
       " 4.0     846\n",
       " 5.0     106\n",
       " 6.0      14\n",
       " 7.0      10\n",
       " Name: family_size, dtype: int64)"
      ]
     },
     "execution_count": 386,
     "metadata": {},
     "output_type": "execute_result"
    }
   ],
   "source": [
    "train['family_size'].value_counts(), test['family_size'].value_counts() \n",
    "# 'family_size'가 9인 사람과 2인 사람을 보고, 제거한다."
   ]
  },
  {
   "cell_type": "code",
   "execution_count": 387,
   "id": "53452b9e-518f-4d04-a8c2-0de241af336f",
   "metadata": {},
   "outputs": [
    {
     "data": {
      "text/plain": [
       "count    22019.000000\n",
       "mean     -2641.650211\n",
       "std       2362.040014\n",
       "min     -15713.000000\n",
       "25%      -3506.000000\n",
       "50%      -1977.000000\n",
       "75%       -969.500000\n",
       "max        -17.000000\n",
       "Name: DAYS_EMPLOYED, dtype: float64"
      ]
     },
     "execution_count": 387,
     "metadata": {},
     "output_type": "execute_result"
    }
   ],
   "source": [
    "train.sort_values(by = ['DAYS_EMPLOYED'], axis = 0, ascending = False).head(15)\n",
    "# 'DAYS_EMPLOYED'가 365243인 사람이 많은듯\n",
    "\n",
    "tmp = train.loc[train['DAYS_EMPLOYED'] != 365243] # 4438명\n",
    "tmp['DAYS_EMPLOYED'].describe()\n",
    "# 찾아보니, 양수는 무직을 의미한다.\n",
    "\n",
    "# 무직/\n",
    "# 직장 만5년차 미만/\n",
    "# 직장 만5년이상 만10년 미만/\n",
    "# 직장 만10년차이상 \n",
    "# 으로 4 그룹으로 먼저 나누어보기로 함.\n"
   ]
  },
  {
   "cell_type": "code",
   "execution_count": 388,
   "id": "3cf94157-1541-4d07-9e9f-9dcf986288b4",
   "metadata": {},
   "outputs": [],
   "source": [
    "# train\n",
    "cond = [\n",
    "    (train['DAYS_EMPLOYED'] >= 0),\n",
    "    (train['DAYS_EMPLOYED'] <= 0) & (train['DAYS_EMPLOYED'] > -5*365),\n",
    "    (train['DAYS_EMPLOYED'] <= -5*365) & (train['DAYS_EMPLOYED'] > -10*365),\n",
    "    (train['DAYS_EMPLOYED'] <= -10*365)\n",
    "]\n",
    "\n",
    "vals = ['None', 'Emp_under5', 'Emp_5to10', 'Emp_over10']\n",
    "train['employed_grp'] = np.select(cond, vals)\n",
    "\n",
    "# test\n",
    "cond = [\n",
    "    (test['DAYS_EMPLOYED'] >= 0),\n",
    "    (test['DAYS_EMPLOYED'] <= 0) & (test['DAYS_EMPLOYED'] > -5*365),\n",
    "    (test['DAYS_EMPLOYED'] <= -5*365) & (test['DAYS_EMPLOYED'] > -10*365),\n",
    "    (test['DAYS_EMPLOYED'] <= -10*365)\n",
    "]\n",
    "\n",
    "vals = ['None', 'Emp_under5', 'Emp_5to10', 'Emp_over10']\n",
    "test['employed_grp'] = np.select(cond, vals)"
   ]
  },
  {
   "cell_type": "code",
   "execution_count": 389,
   "id": "fbe235a8-19f1-45ce-b09e-e07d90a89b5c",
   "metadata": {},
   "outputs": [
    {
     "data": {
      "text/html": [
       "<div>\n",
       "<style scoped>\n",
       "    .dataframe tbody tr th:only-of-type {\n",
       "        vertical-align: middle;\n",
       "    }\n",
       "\n",
       "    .dataframe tbody tr th {\n",
       "        vertical-align: top;\n",
       "    }\n",
       "\n",
       "    .dataframe thead th {\n",
       "        text-align: right;\n",
       "    }\n",
       "</style>\n",
       "<table border=\"1\" class=\"dataframe\">\n",
       "  <thead>\n",
       "    <tr style=\"text-align: right;\">\n",
       "      <th></th>\n",
       "      <th>index</th>\n",
       "      <th>employed_grp</th>\n",
       "    </tr>\n",
       "  </thead>\n",
       "  <tbody>\n",
       "    <tr>\n",
       "      <th>0</th>\n",
       "      <td>Emp_under5</td>\n",
       "      <td>10372</td>\n",
       "    </tr>\n",
       "    <tr>\n",
       "      <th>1</th>\n",
       "      <td>Emp_5to10</td>\n",
       "      <td>6476</td>\n",
       "    </tr>\n",
       "    <tr>\n",
       "      <th>2</th>\n",
       "      <td>Emp_over10</td>\n",
       "      <td>5171</td>\n",
       "    </tr>\n",
       "    <tr>\n",
       "      <th>3</th>\n",
       "      <td>None</td>\n",
       "      <td>4438</td>\n",
       "    </tr>\n",
       "  </tbody>\n",
       "</table>\n",
       "</div>"
      ],
      "text/plain": [
       "        index  employed_grp\n",
       "0  Emp_under5         10372\n",
       "1   Emp_5to10          6476\n",
       "2  Emp_over10          5171\n",
       "3        None          4438"
      ]
     },
     "execution_count": 389,
     "metadata": {},
     "output_type": "execute_result"
    }
   ],
   "source": [
    "train[['DAYS_EMPLOYED', 'employed_grp']].head(40)\n",
    "train['employed_grp'].value_counts().reset_index()"
   ]
  },
  {
   "cell_type": "code",
   "execution_count": 390,
   "id": "aff2d2d8-6ca7-4bb3-ba1e-a4b84e0a339d",
   "metadata": {},
   "outputs": [
    {
     "data": {
      "text/plain": [
       "<BarContainer object of 4 artists>"
      ]
     },
     "execution_count": 390,
     "metadata": {},
     "output_type": "execute_result"
    },
    {
     "data": {
      "image/png": "[encoded data removed]",
      "text/plain": [
       "<Figure size 432x288 with 1 Axes>"
      ]
     },
     "metadata": {
      "needs_background": "light"
     },
     "output_type": "display_data"
    }
   ],
   "source": [
    "pltdf = train['employed_grp'].value_counts().reset_index()\n",
    "plt.bar(pltdf['index'], pltdf['employed_grp'])"
   ]
  },
  {
   "cell_type": "code",
   "execution_count": 393,
   "id": "dd12de62-e6fc-4c2b-a7a9-1c350ab45ee6",
   "metadata": {},
   "outputs": [
    {
     "data": {
      "text/html": [
       "<div>\n",
       "<style scoped>\n",
       "    .dataframe tbody tr th:only-of-type {\n",
       "        vertical-align: middle;\n",
       "    }\n",
       "\n",
       "    .dataframe tbody tr th {\n",
       "        vertical-align: top;\n",
       "    }\n",
       "\n",
       "    .dataframe thead th {\n",
       "        text-align: right;\n",
       "    }\n",
       "</style>\n",
       "<table border=\"1\" class=\"dataframe\">\n",
       "  <thead>\n",
       "    <tr style=\"text-align: right;\">\n",
       "      <th></th>\n",
       "      <th>index</th>\n",
       "      <th>gender</th>\n",
       "      <th>car</th>\n",
       "      <th>reality</th>\n",
       "      <th>child_num</th>\n",
       "      <th>income_total</th>\n",
       "      <th>income_type</th>\n",
       "      <th>edu_type</th>\n",
       "      <th>family_type</th>\n",
       "      <th>house_type</th>\n",
       "      <th>...</th>\n",
       "      <th>DAYS_EMPLOYED</th>\n",
       "      <th>FLAG_MOBIL</th>\n",
       "      <th>work_phone</th>\n",
       "      <th>phone</th>\n",
       "      <th>email</th>\n",
       "      <th>occyp_type</th>\n",
       "      <th>family_size</th>\n",
       "      <th>begin_month</th>\n",
       "      <th>credit</th>\n",
       "      <th>employed_grp</th>\n",
       "    </tr>\n",
       "  </thead>\n",
       "  <tbody>\n",
       "  </tbody>\n",
       "</table>\n",
       "<p>0 rows × 21 columns</p>\n",
       "</div>"
      ],
      "text/plain": [
       "Empty DataFrame\n",
       "Columns: [index, gender, car, reality, child_num, income_total, income_type, edu_type, family_type, house_type, DAYS_BIRTH, DAYS_EMPLOYED, FLAG_MOBIL, work_phone, phone, email, occyp_type, family_size, begin_month, credit, employed_grp]\n",
       "Index: []\n",
       "\n",
       "[0 rows x 21 columns]"
      ]
     },
     "execution_count": 393,
     "metadata": {},
     "output_type": "execute_result"
    }
   ],
   "source": [
    "train[(train['child_num'] >= 14) | (train['family_size'] >= 9)]"
   ]
  },
  {
   "cell_type": "code",
   "execution_count": 394,
   "id": "3b06be7c-37e9-47a4-b585-c3becae290d7",
   "metadata": {},
   "outputs": [
    {
     "data": {
      "text/plain": [
       "(26451, 21)"
      ]
     },
     "execution_count": 394,
     "metadata": {},
     "output_type": "execute_result"
    }
   ],
   "source": [
    "#1 outliers 제거\n",
    "# 'child_num'이 14이상인 사람은 test set에 없다. 따라서 outlier 취급한다.\n",
    "# 'family_size'가 9 이상인 사람은 test set에 없다. 따라서 outlier 취급한다.\n",
    "train = train[(train['child_num'] < 14) & (train['family_size'] < 9)]\n",
    "test = test[(test['child_num'] < 14) & (test['family_size'] < 9)]\n",
    "train.shape # why 6개 안지워짐..?"
   ]
  },
  {
   "cell_type": "code",
   "execution_count": 395,
   "id": "1203f481-b965-4fe6-a52e-098a4e72dbbc",
   "metadata": {},
   "outputs": [],
   "source": [
    "#2 index\n",
    "train_id = train['index']\n",
    "test_id = test['index']\n",
    "\n",
    "#3 target variable\n",
    "train_y = train['credit']\n",
    "\n",
    "#4 features\n",
    "train_x = train.drop(['index', 'credit', 'occyp_type', 'DAYS_EMPLOYED', 'FLAG_MOBIL'], axis = 1)\n",
    "test_x = test.drop(['index', 'occyp_type', 'DAYS_EMPLOYED', 'FLAG_MOBIL'], axis = 1)"
   ]
  },
  {
   "cell_type": "code",
   "execution_count": 396,
   "id": "07cedb0a-43b8-42df-aa83-e903ae07b9cb",
   "metadata": {},
   "outputs": [
    {
     "name": "stdout",
     "output_type": "stream",
     "text": [
      "categorical :  Index(['gender', 'car', 'reality', 'income_type', 'edu_type', 'family_type',\n",
      "       'house_type', 'work_phone', 'phone', 'email', 'employed_grp'],\n",
      "      dtype='object') \n",
      " numeric : ['child_num', 'income_total', 'DAYS_BIRTH', 'family_size', 'begin_month']\n"
     ]
    }
   ],
   "source": [
    "#5 변수타입 정리\n",
    "nm_num = ['child_num', 'income_total', 'DAYS_BIRTH', \n",
    "          'family_size', 'begin_month']\n",
    "nm_str = train_x.columns.drop(nm_num)\n",
    "\n",
    "print('categorical : ', nm_str, \n",
    "      '\\n',\n",
    "      'numeric :', nm_num)"
   ]
  },
  {
   "cell_type": "code",
   "execution_count": 397,
   "id": "3dc9772d-8917-4c12-a5df-ede81fbebeaf",
   "metadata": {},
   "outputs": [
    {
     "data": {
      "text/plain": [
       "((26451, 16), (10000, 16))"
      ]
     },
     "execution_count": 397,
     "metadata": {},
     "output_type": "execute_result"
    }
   ],
   "source": [
    "train_x.shape, test_x.shape"
   ]
  },
  {
   "cell_type": "markdown",
   "id": "437fa2c5-0fd3-461a-ab86-3d55d0be822b",
   "metadata": {},
   "source": [
    "### 2. scaler"
   ]
  },
  {
   "cell_type": "code",
   "execution_count": 398,
   "id": "82cd58e7-3545-4306-80e2-f4e38514a019",
   "metadata": {},
   "outputs": [],
   "source": [
    "train_x_cl = train_x.copy()\n",
    "test_x_cl = test_x.copy()"
   ]
  },
  {
   "cell_type": "code",
   "execution_count": 399,
   "id": "961335e0-5454-4b75-8b71-9d46f25ba4cb",
   "metadata": {},
   "outputs": [
    {
     "data": {
      "text/plain": [
       "Index(['child_num', 'income_total', 'DAYS_BIRTH', 'family_size',\n",
       "       'begin_month'],\n",
       "      dtype='object')"
      ]
     },
     "execution_count": 399,
     "metadata": {},
     "output_type": "execute_result"
    }
   ],
   "source": [
    "test_x[nm_num].columns"
   ]
  },
  {
   "cell_type": "code",
   "execution_count": 400,
   "id": "ab837581-60e9-44d1-9501-ef05de940c7d",
   "metadata": {},
   "outputs": [],
   "source": [
    "ss = StandardScaler()\n",
    "train_x_cl[nm_num] = pd.DataFrame(ss.fit_transform(train_x[nm_num]), columns = train_x[nm_num].columns)\n",
    "test_x_cl[nm_num] = pd.DataFrame(ss.transform(test_x[nm_num]), columns = test_x[nm_num].columns)"
   ]
  },
  {
   "cell_type": "code",
   "execution_count": 401,
   "id": "172a808d-b4bb-482c-b93c-8cf5ab568ba7",
   "metadata": {},
   "outputs": [],
   "source": [
    "le = LabelEncoder()\n",
    "for i in nm_str:\n",
    "    le.fit(train_x[i])\n",
    "    train_x_cl[i] = le.transform(train_x[i])\n",
    "    test_x_cl[i] = le.transform(test_x[i])"
   ]
  },
  {
   "cell_type": "code",
   "execution_count": 402,
   "id": "f24ed44f-2cba-4645-b634-c1e3d722c9b8",
   "metadata": {},
   "outputs": [
    {
     "data": {
      "text/plain": [
       "pandas.core.frame.DataFrame"
      ]
     },
     "execution_count": 402,
     "metadata": {},
     "output_type": "execute_result"
    }
   ],
   "source": [
    "train_x_cl.head()\n",
    "type(train_x_cl)"
   ]
  },
  {
   "cell_type": "code",
   "execution_count": 403,
   "id": "86d0b95b-5be4-4a2e-acb0-119bd347f137",
   "metadata": {},
   "outputs": [
    {
     "data": {
      "text/plain": [
       "(26451, 16)"
      ]
     },
     "execution_count": 403,
     "metadata": {},
     "output_type": "execute_result"
    }
   ],
   "source": [
    "train_x_cl.shape"
   ]
  },
  {
   "cell_type": "code",
   "execution_count": 404,
   "id": "37aec403-0529-438c-9b47-bcea09db4f80",
   "metadata": {},
   "outputs": [
    {
     "data": {
      "text/html": [
       "<div>\n",
       "<style scoped>\n",
       "    .dataframe tbody tr th:only-of-type {\n",
       "        vertical-align: middle;\n",
       "    }\n",
       "\n",
       "    .dataframe tbody tr th {\n",
       "        vertical-align: top;\n",
       "    }\n",
       "\n",
       "    .dataframe thead th {\n",
       "        text-align: right;\n",
       "    }\n",
       "</style>\n",
       "<table border=\"1\" class=\"dataframe\">\n",
       "  <thead>\n",
       "    <tr style=\"text-align: right;\">\n",
       "      <th></th>\n",
       "      <th>gender</th>\n",
       "      <th>car</th>\n",
       "      <th>reality</th>\n",
       "      <th>child_num</th>\n",
       "      <th>income_total</th>\n",
       "      <th>income_type</th>\n",
       "      <th>edu_type</th>\n",
       "      <th>family_type</th>\n",
       "      <th>house_type</th>\n",
       "      <th>DAYS_BIRTH</th>\n",
       "      <th>work_phone</th>\n",
       "      <th>phone</th>\n",
       "      <th>email</th>\n",
       "      <th>family_size</th>\n",
       "      <th>begin_month</th>\n",
       "      <th>employed_grp</th>\n",
       "    </tr>\n",
       "  </thead>\n",
       "  <tbody>\n",
       "    <tr>\n",
       "      <th>26451</th>\n",
       "      <td>0</td>\n",
       "      <td>0</td>\n",
       "      <td>1</td>\n",
       "      <td>NaN</td>\n",
       "      <td>NaN</td>\n",
       "      <td>4</td>\n",
       "      <td>1</td>\n",
       "      <td>1</td>\n",
       "      <td>1</td>\n",
       "      <td>NaN</td>\n",
       "      <td>1</td>\n",
       "      <td>1</td>\n",
       "      <td>0</td>\n",
       "      <td>NaN</td>\n",
       "      <td>NaN</td>\n",
       "      <td>2</td>\n",
       "    </tr>\n",
       "    <tr>\n",
       "      <th>26452</th>\n",
       "      <td>0</td>\n",
       "      <td>0</td>\n",
       "      <td>0</td>\n",
       "      <td>NaN</td>\n",
       "      <td>NaN</td>\n",
       "      <td>2</td>\n",
       "      <td>4</td>\n",
       "      <td>1</td>\n",
       "      <td>1</td>\n",
       "      <td>NaN</td>\n",
       "      <td>0</td>\n",
       "      <td>0</td>\n",
       "      <td>0</td>\n",
       "      <td>NaN</td>\n",
       "      <td>NaN</td>\n",
       "      <td>0</td>\n",
       "    </tr>\n",
       "    <tr>\n",
       "      <th>26453</th>\n",
       "      <td>0</td>\n",
       "      <td>0</td>\n",
       "      <td>1</td>\n",
       "      <td>NaN</td>\n",
       "      <td>NaN</td>\n",
       "      <td>4</td>\n",
       "      <td>1</td>\n",
       "      <td>2</td>\n",
       "      <td>1</td>\n",
       "      <td>NaN</td>\n",
       "      <td>0</td>\n",
       "      <td>0</td>\n",
       "      <td>0</td>\n",
       "      <td>NaN</td>\n",
       "      <td>NaN</td>\n",
       "      <td>0</td>\n",
       "    </tr>\n",
       "    <tr>\n",
       "      <th>26454</th>\n",
       "      <td>0</td>\n",
       "      <td>1</td>\n",
       "      <td>0</td>\n",
       "      <td>NaN</td>\n",
       "      <td>NaN</td>\n",
       "      <td>4</td>\n",
       "      <td>4</td>\n",
       "      <td>0</td>\n",
       "      <td>5</td>\n",
       "      <td>NaN</td>\n",
       "      <td>0</td>\n",
       "      <td>0</td>\n",
       "      <td>0</td>\n",
       "      <td>NaN</td>\n",
       "      <td>NaN</td>\n",
       "      <td>0</td>\n",
       "    </tr>\n",
       "    <tr>\n",
       "      <th>26455</th>\n",
       "      <td>1</td>\n",
       "      <td>0</td>\n",
       "      <td>1</td>\n",
       "      <td>NaN</td>\n",
       "      <td>NaN</td>\n",
       "      <td>4</td>\n",
       "      <td>2</td>\n",
       "      <td>3</td>\n",
       "      <td>1</td>\n",
       "      <td>NaN</td>\n",
       "      <td>0</td>\n",
       "      <td>0</td>\n",
       "      <td>0</td>\n",
       "      <td>NaN</td>\n",
       "      <td>NaN</td>\n",
       "      <td>2</td>\n",
       "    </tr>\n",
       "    <tr>\n",
       "      <th>26456</th>\n",
       "      <td>0</td>\n",
       "      <td>0</td>\n",
       "      <td>0</td>\n",
       "      <td>NaN</td>\n",
       "      <td>NaN</td>\n",
       "      <td>4</td>\n",
       "      <td>4</td>\n",
       "      <td>0</td>\n",
       "      <td>1</td>\n",
       "      <td>NaN</td>\n",
       "      <td>0</td>\n",
       "      <td>0</td>\n",
       "      <td>0</td>\n",
       "      <td>NaN</td>\n",
       "      <td>NaN</td>\n",
       "      <td>2</td>\n",
       "    </tr>\n",
       "  </tbody>\n",
       "</table>\n",
       "</div>"
      ],
      "text/plain": [
       "       gender  car  reality  child_num  income_total  income_type  edu_type  \\\n",
       "26451       0    0        1        NaN           NaN            4         1   \n",
       "26452       0    0        0        NaN           NaN            2         4   \n",
       "26453       0    0        1        NaN           NaN            4         1   \n",
       "26454       0    1        0        NaN           NaN            4         4   \n",
       "26455       1    0        1        NaN           NaN            4         2   \n",
       "26456       0    0        0        NaN           NaN            4         4   \n",
       "\n",
       "       family_type  house_type  DAYS_BIRTH  work_phone  phone  email  \\\n",
       "26451            1           1         NaN           1      1      0   \n",
       "26452            1           1         NaN           0      0      0   \n",
       "26453            2           1         NaN           0      0      0   \n",
       "26454            0           5         NaN           0      0      0   \n",
       "26455            3           1         NaN           0      0      0   \n",
       "26456            0           1         NaN           0      0      0   \n",
       "\n",
       "       family_size  begin_month  employed_grp  \n",
       "26451          NaN          NaN             2  \n",
       "26452          NaN          NaN             0  \n",
       "26453          NaN          NaN             0  \n",
       "26454          NaN          NaN             0  \n",
       "26455          NaN          NaN             2  \n",
       "26456          NaN          NaN             2  "
      ]
     },
     "execution_count": 404,
     "metadata": {},
     "output_type": "execute_result"
    }
   ],
   "source": [
    "train_x_cl.isnull().sum()\n",
    "\n",
    "train_x_cl[train_x_cl['child_num'].isnull() == True]"
   ]
  },
  {
   "cell_type": "code",
   "execution_count": 405,
   "id": "e7dbe7c4-98a7-419a-8b80-5440939431c6",
   "metadata": {},
   "outputs": [],
   "source": [
    "# validation set\n",
    "train_x_cl_t, train_x_cl_v, train_y_t, train_y_v = train_test_split(train_x_cl, train_y,\n",
    "                 random_state = 21, test_size = 0.2)"
   ]
  },
  {
   "cell_type": "markdown",
   "id": "e2f3480b-d62d-4d6d-b38a-d2b072dcefc4",
   "metadata": {},
   "source": [
    "## modeling\n",
    "### 1. DecisionTree"
   ]
  },
  {
   "cell_type": "code",
   "execution_count": 406,
   "id": "701598ed-968f-4b68-8764-25e989f5e2fb",
   "metadata": {},
   "outputs": [
    {
     "ename": "ValueError",
     "evalue": "Input contains NaN, infinity or a value too large for dtype('float32').",
     "output_type": "error",
     "traceback": [
      "\u001b[1;31m---------------------------------------------------------------------------\u001b[0m",
      "\u001b[1;31mValueError\u001b[0m                                Traceback (most recent call last)",
      "\u001b[1;32m~\\AppData\\Local\\Temp/ipykernel_12956/4158481801.py\u001b[0m in \u001b[0;36m<module>\u001b[1;34m\u001b[0m\n\u001b[0;32m      1\u001b[0m md_d1 = DecisionTreeClassifier(max_depth=2, \n\u001b[0;32m      2\u001b[0m                                random_state=2021)\n\u001b[1;32m----> 3\u001b[1;33m \u001b[0mmd_d1\u001b[0m\u001b[1;33m.\u001b[0m\u001b[0mfit\u001b[0m\u001b[1;33m(\u001b[0m\u001b[0mtrain_x_cl_t\u001b[0m\u001b[1;33m,\u001b[0m \u001b[0mtrain_y_t\u001b[0m\u001b[1;33m)\u001b[0m\u001b[1;33m\u001b[0m\u001b[1;33m\u001b[0m\u001b[0m\n\u001b[0m",
      "\u001b[1;32m~\\miniconda3\\envs\\cook\\lib\\site-packages\\sklearn\\tree\\_classes.py\u001b[0m in \u001b[0;36mfit\u001b[1;34m(self, X, y, sample_weight, check_input, X_idx_sorted)\u001b[0m\n\u001b[0;32m    905\u001b[0m             \u001b[0msample_weight\u001b[0m\u001b[1;33m=\u001b[0m\u001b[0msample_weight\u001b[0m\u001b[1;33m,\u001b[0m\u001b[1;33m\u001b[0m\u001b[1;33m\u001b[0m\u001b[0m\n\u001b[0;32m    906\u001b[0m             \u001b[0mcheck_input\u001b[0m\u001b[1;33m=\u001b[0m\u001b[0mcheck_input\u001b[0m\u001b[1;33m,\u001b[0m\u001b[1;33m\u001b[0m\u001b[1;33m\u001b[0m\u001b[0m\n\u001b[1;32m--> 907\u001b[1;33m             X_idx_sorted=X_idx_sorted)\n\u001b[0m\u001b[0;32m    908\u001b[0m         \u001b[1;32mreturn\u001b[0m \u001b[0mself\u001b[0m\u001b[1;33m\u001b[0m\u001b[1;33m\u001b[0m\u001b[0m\n\u001b[0;32m    909\u001b[0m \u001b[1;33m\u001b[0m\u001b[0m\n",
      "\u001b[1;32m~\\miniconda3\\envs\\cook\\lib\\site-packages\\sklearn\\tree\\_classes.py\u001b[0m in \u001b[0;36mfit\u001b[1;34m(self, X, y, sample_weight, check_input, X_idx_sorted)\u001b[0m\n\u001b[0;32m    157\u001b[0m             X, y = self._validate_data(X, y,\n\u001b[0;32m    158\u001b[0m                                        validate_separately=(check_X_params,\n\u001b[1;32m--> 159\u001b[1;33m                                                             check_y_params))\n\u001b[0m\u001b[0;32m    160\u001b[0m             \u001b[1;32mif\u001b[0m \u001b[0missparse\u001b[0m\u001b[1;33m(\u001b[0m\u001b[0mX\u001b[0m\u001b[1;33m)\u001b[0m\u001b[1;33m:\u001b[0m\u001b[1;33m\u001b[0m\u001b[1;33m\u001b[0m\u001b[0m\n\u001b[0;32m    161\u001b[0m                 \u001b[0mX\u001b[0m\u001b[1;33m.\u001b[0m\u001b[0msort_indices\u001b[0m\u001b[1;33m(\u001b[0m\u001b[1;33m)\u001b[0m\u001b[1;33m\u001b[0m\u001b[1;33m\u001b[0m\u001b[0m\n",
      "\u001b[1;32m~\\miniconda3\\envs\\cook\\lib\\site-packages\\sklearn\\base.py\u001b[0m in \u001b[0;36m_validate_data\u001b[1;34m(self, X, y, reset, validate_separately, **check_params)\u001b[0m\n\u001b[0;32m    428\u001b[0m                 \u001b[1;31m# :(\u001b[0m\u001b[1;33m\u001b[0m\u001b[1;33m\u001b[0m\u001b[1;33m\u001b[0m\u001b[0m\n\u001b[0;32m    429\u001b[0m                 \u001b[0mcheck_X_params\u001b[0m\u001b[1;33m,\u001b[0m \u001b[0mcheck_y_params\u001b[0m \u001b[1;33m=\u001b[0m \u001b[0mvalidate_separately\u001b[0m\u001b[1;33m\u001b[0m\u001b[1;33m\u001b[0m\u001b[0m\n\u001b[1;32m--> 430\u001b[1;33m                 \u001b[0mX\u001b[0m \u001b[1;33m=\u001b[0m \u001b[0mcheck_array\u001b[0m\u001b[1;33m(\u001b[0m\u001b[0mX\u001b[0m\u001b[1;33m,\u001b[0m \u001b[1;33m**\u001b[0m\u001b[0mcheck_X_params\u001b[0m\u001b[1;33m)\u001b[0m\u001b[1;33m\u001b[0m\u001b[1;33m\u001b[0m\u001b[0m\n\u001b[0m\u001b[0;32m    431\u001b[0m                 \u001b[0my\u001b[0m \u001b[1;33m=\u001b[0m \u001b[0mcheck_array\u001b[0m\u001b[1;33m(\u001b[0m\u001b[0my\u001b[0m\u001b[1;33m,\u001b[0m \u001b[1;33m**\u001b[0m\u001b[0mcheck_y_params\u001b[0m\u001b[1;33m)\u001b[0m\u001b[1;33m\u001b[0m\u001b[1;33m\u001b[0m\u001b[0m\n\u001b[0;32m    432\u001b[0m             \u001b[1;32melse\u001b[0m\u001b[1;33m:\u001b[0m\u001b[1;33m\u001b[0m\u001b[1;33m\u001b[0m\u001b[0m\n",
      "\u001b[1;32m~\\miniconda3\\envs\\cook\\lib\\site-packages\\sklearn\\utils\\validation.py\u001b[0m in \u001b[0;36minner_f\u001b[1;34m(*args, **kwargs)\u001b[0m\n\u001b[0;32m     61\u001b[0m             \u001b[0mextra_args\u001b[0m \u001b[1;33m=\u001b[0m \u001b[0mlen\u001b[0m\u001b[1;33m(\u001b[0m\u001b[0margs\u001b[0m\u001b[1;33m)\u001b[0m \u001b[1;33m-\u001b[0m \u001b[0mlen\u001b[0m\u001b[1;33m(\u001b[0m\u001b[0mall_args\u001b[0m\u001b[1;33m)\u001b[0m\u001b[1;33m\u001b[0m\u001b[1;33m\u001b[0m\u001b[0m\n\u001b[0;32m     62\u001b[0m             \u001b[1;32mif\u001b[0m \u001b[0mextra_args\u001b[0m \u001b[1;33m<=\u001b[0m \u001b[1;36m0\u001b[0m\u001b[1;33m:\u001b[0m\u001b[1;33m\u001b[0m\u001b[1;33m\u001b[0m\u001b[0m\n\u001b[1;32m---> 63\u001b[1;33m                 \u001b[1;32mreturn\u001b[0m \u001b[0mf\u001b[0m\u001b[1;33m(\u001b[0m\u001b[1;33m*\u001b[0m\u001b[0margs\u001b[0m\u001b[1;33m,\u001b[0m \u001b[1;33m**\u001b[0m\u001b[0mkwargs\u001b[0m\u001b[1;33m)\u001b[0m\u001b[1;33m\u001b[0m\u001b[1;33m\u001b[0m\u001b[0m\n\u001b[0m\u001b[0;32m     64\u001b[0m \u001b[1;33m\u001b[0m\u001b[0m\n\u001b[0;32m     65\u001b[0m             \u001b[1;31m# extra_args > 0\u001b[0m\u001b[1;33m\u001b[0m\u001b[1;33m\u001b[0m\u001b[1;33m\u001b[0m\u001b[0m\n",
      "\u001b[1;32m~\\miniconda3\\envs\\cook\\lib\\site-packages\\sklearn\\utils\\validation.py\u001b[0m in \u001b[0;36mcheck_array\u001b[1;34m(array, accept_sparse, accept_large_sparse, dtype, order, copy, force_all_finite, ensure_2d, allow_nd, ensure_min_samples, ensure_min_features, estimator)\u001b[0m\n\u001b[0;32m    719\u001b[0m         \u001b[1;32mif\u001b[0m \u001b[0mforce_all_finite\u001b[0m\u001b[1;33m:\u001b[0m\u001b[1;33m\u001b[0m\u001b[1;33m\u001b[0m\u001b[0m\n\u001b[0;32m    720\u001b[0m             _assert_all_finite(array,\n\u001b[1;32m--> 721\u001b[1;33m                                allow_nan=force_all_finite == 'allow-nan')\n\u001b[0m\u001b[0;32m    722\u001b[0m \u001b[1;33m\u001b[0m\u001b[0m\n\u001b[0;32m    723\u001b[0m     \u001b[1;32mif\u001b[0m \u001b[0mensure_min_samples\u001b[0m \u001b[1;33m>\u001b[0m \u001b[1;36m0\u001b[0m\u001b[1;33m:\u001b[0m\u001b[1;33m\u001b[0m\u001b[1;33m\u001b[0m\u001b[0m\n",
      "\u001b[1;32m~\\miniconda3\\envs\\cook\\lib\\site-packages\\sklearn\\utils\\validation.py\u001b[0m in \u001b[0;36m_assert_all_finite\u001b[1;34m(X, allow_nan, msg_dtype)\u001b[0m\n\u001b[0;32m    104\u001b[0m                     \u001b[0mmsg_err\u001b[0m\u001b[1;33m.\u001b[0m\u001b[0mformat\u001b[0m\u001b[1;33m\u001b[0m\u001b[1;33m\u001b[0m\u001b[0m\n\u001b[0;32m    105\u001b[0m                     (type_err,\n\u001b[1;32m--> 106\u001b[1;33m                      msg_dtype if msg_dtype is not None else X.dtype)\n\u001b[0m\u001b[0;32m    107\u001b[0m             )\n\u001b[0;32m    108\u001b[0m     \u001b[1;31m# for object dtype data, we only check for NaNs (GH-13254)\u001b[0m\u001b[1;33m\u001b[0m\u001b[1;33m\u001b[0m\u001b[1;33m\u001b[0m\u001b[0m\n",
      "\u001b[1;31mValueError\u001b[0m: Input contains NaN, infinity or a value too large for dtype('float32')."
     ]
    }
   ],
   "source": [
    "md_d1 = DecisionTreeClassifier(max_depth=2, \n",
    "                               random_state=2021)\n",
    "md_d1.fit(train_x_cl_t, train_y_t)"
   ]
  },
  {
   "cell_type": "code",
   "execution_count": 141,
   "id": "14e4900e-2d88-48c5-a5a7-5a9c2111a565",
   "metadata": {},
   "outputs": [],
   "source": [
    "pred_d1 = md_d1.predict(train_x_cl_v)"
   ]
  },
  {
   "cell_type": "code",
   "execution_count": 142,
   "id": "69855912-2de7-44a8-87cc-91e287c18911",
   "metadata": {},
   "outputs": [
    {
     "data": {
      "text/plain": [
       "0.6933106575963719"
      ]
     },
     "execution_count": 142,
     "metadata": {},
     "output_type": "execute_result"
    }
   ],
   "source": [
    "accuracy_score(train_y_v, pred_d1)"
   ]
  },
  {
   "cell_type": "code",
   "execution_count": 143,
   "id": "3f0b0c1a-c138-4427-8e82-6dba802ca8a2",
   "metadata": {},
   "outputs": [
    {
     "data": {
      "text/plain": [
       "array([[   0,   70,  582],\n",
       "       [   0,  274,  966],\n",
       "       [   0,    5, 3395]], dtype=int64)"
      ]
     },
     "execution_count": 143,
     "metadata": {},
     "output_type": "execute_result"
    }
   ],
   "source": [
    "confusion_matrix(train_y_v, pred_d1)"
   ]
  },
  {
   "cell_type": "code",
   "execution_count": 144,
   "id": "4e8d2359-dfcd-4dd1-a480-ee7371624ee2",
   "metadata": {},
   "outputs": [
    {
     "data": {
      "text/plain": [
       "<sklearn.metrics._plot.confusion_matrix.ConfusionMatrixDisplay at 0x211897afec8>"
      ]
     },
     "execution_count": 144,
     "metadata": {},
     "output_type": "execute_result"
    },
    {
     "data": {
      "image/png": "[encoded data removed]",
      "text/plain": [
       "<Figure size 432x288 with 2 Axes>"
      ]
     },
     "metadata": {
      "needs_background": "light"
     },
     "output_type": "display_data"
    }
   ],
   "source": [
    "plot_confusion_matrix(md_d1, train_x_cl_t, train_y_t)"
   ]
  },
  {
   "cell_type": "code",
   "execution_count": 145,
   "id": "c1ee11db-c607-42a9-b758-ed5a1035dd0b",
   "metadata": {},
   "outputs": [
    {
     "data": {
      "text/plain": [
       "<sklearn.metrics._plot.confusion_matrix.ConfusionMatrixDisplay at 0x21189636f88>"
      ]
     },
     "execution_count": 145,
     "metadata": {},
     "output_type": "execute_result"
    },
    {
     "data": {
      "image/png": "[encoded data removed]",
      "text/plain": [
       "<Figure size 432x288 with 2 Axes>"
      ]
     },
     "metadata": {
      "needs_background": "light"
     },
     "output_type": "display_data"
    }
   ],
   "source": [
    "plot_confusion_matrix(md_d1, train_x_cl_v, train_y_v)"
   ]
  },
  {
   "cell_type": "code",
   "execution_count": 146,
   "id": "9eb62f65-7426-4644-a2e6-136125c55b58",
   "metadata": {},
   "outputs": [],
   "source": [
    "# from sklearn.tree import export_graphviz\n",
    "\n",
    "# export_graphviz(md_d1, out_file = 'tree.dot')"
   ]
  },
  {
   "cell_type": "code",
   "execution_count": 147,
   "id": "783d35c9-e1df-4387-bbd4-ee4eb4b67356",
   "metadata": {},
   "outputs": [
    {
     "data": {
      "text/plain": [
       "array([2., 2., 2., ..., 2., 2., 2.])"
      ]
     },
     "execution_count": 147,
     "metadata": {},
     "output_type": "execute_result"
    }
   ],
   "source": [
    "pred_d1"
   ]
  },
  {
   "cell_type": "markdown",
   "id": "df1bbff9-b2bd-4b70-94b8-7a38bc06781a",
   "metadata": {},
   "source": [
    "### 2. RandomForest"
   ]
  },
  {
   "cell_type": "code",
   "execution_count": 148,
   "id": "64a631eb-17f3-4bfd-b615-cc56fc77892f",
   "metadata": {},
   "outputs": [
    {
     "data": {
      "text/plain": [
       "RandomForestClassifier(n_estimators=300, random_state=2021)"
      ]
     },
     "execution_count": 148,
     "metadata": {},
     "output_type": "execute_result"
    }
   ],
   "source": [
    "md_r1 = RandomForestClassifier(n_estimators=300, \n",
    "                               random_state=2021)\n",
    "md_r1.fit(train_x_cl_t, train_y_t)"
   ]
  },
  {
   "cell_type": "code",
   "execution_count": 149,
   "id": "ec6163d6-c4e8-4a6f-a5bb-f9b8c1a96e9d",
   "metadata": {},
   "outputs": [],
   "source": [
    "pred_r1 = md_r1.predict(train_x_cl_v)"
   ]
  },
  {
   "cell_type": "code",
   "execution_count": 150,
   "id": "a36a6c7a-93bb-4b33-a02b-42a3360caa7a",
   "metadata": {},
   "outputs": [
    {
     "data": {
      "text/plain": [
       "0.7099395313681028"
      ]
     },
     "execution_count": 150,
     "metadata": {},
     "output_type": "execute_result"
    }
   ],
   "source": [
    "accuracy_score(pred_r1, train_y_v)"
   ]
  },
  {
   "cell_type": "markdown",
   "id": "aef39904-af1b-4899-b414-e851a43c89e6",
   "metadata": {},
   "source": [
    "### 3. Gardient Boosting"
   ]
  },
  {
   "cell_type": "code",
   "execution_count": 151,
   "id": "8441a46f-accb-44db-bb46-3ad8cbae679b",
   "metadata": {},
   "outputs": [
    {
     "data": {
      "text/plain": [
       "GradientBoostingClassifier(random_state=2021)"
      ]
     },
     "execution_count": 151,
     "metadata": {},
     "output_type": "execute_result"
    }
   ],
   "source": [
    "md_g1 = GradientBoostingClassifier(random_state=2021)\n",
    "md_g1.fit(train_x_cl_t, train_y_t)"
   ]
  },
  {
   "cell_type": "code",
   "execution_count": 152,
   "id": "037310e3-31ce-48f6-a24b-c83293315975",
   "metadata": {},
   "outputs": [
    {
     "data": {
      "text/plain": [
       "0.6934996220710506"
      ]
     },
     "execution_count": 152,
     "metadata": {},
     "output_type": "execute_result"
    }
   ],
   "source": [
    "pred_g1 = md_g1.predict(train_x_cl_v)\n",
    "accuracy_score(pred_g1, train_y_v)"
   ]
  },
  {
   "cell_type": "code",
   "execution_count": null,
   "id": "43889697-c6db-4c65-aabc-28ce92fa6652",
   "metadata": {},
   "outputs": [],
   "source": []
  },
  {
   "cell_type": "markdown",
   "id": "bfe3f171-c10c-4516-87f3-99b6b41bc88d",
   "metadata": {},
   "source": [
    "## predict test set"
   ]
  },
  {
   "cell_type": "code",
   "execution_count": 103,
   "id": "604f9cf5-0683-4c42-9f98-cb0a4bc1835e",
   "metadata": {},
   "outputs": [
    {
     "data": {
      "text/plain": [
       "DecisionTreeClassifier(max_depth=2)"
      ]
     },
     "execution_count": 103,
     "metadata": {},
     "output_type": "execute_result"
    }
   ],
   "source": [
    "md_d2 = DecisionTreeClassifier(max_depth=2)\n",
    "md_d2.fit(train_x_cl, train_y)"
   ]
  },
  {
   "cell_type": "code",
   "execution_count": 104,
   "id": "fc808bdb-b35e-4caf-870f-cadb172e5453",
   "metadata": {},
   "outputs": [],
   "source": [
    "pred_d2 = md_d2.predict(test_x_cl)"
   ]
  },
  {
   "cell_type": "code",
   "execution_count": 108,
   "id": "30446ad3-ed8d-4a6c-aa6f-c41c7cbf5d68",
   "metadata": {},
   "outputs": [
    {
     "data": {
      "text/plain": [
       "array([2., 2., 2., ..., 2., 2., 2.])"
      ]
     },
     "execution_count": 108,
     "metadata": {},
     "output_type": "execute_result"
    }
   ],
   "source": [
    "pred_d2"
   ]
  },
  {
   "cell_type": "code",
   "execution_count": null,
   "id": "65115f79-36a5-4151-8cc4-d152e48abd3b",
   "metadata": {},
   "outputs": [],
   "source": []
  },
  {
   "cell_type": "code",
   "execution_count": null,
   "id": "62647edb-b979-4bf2-a7c1-7323fad9af94",
   "metadata": {},
   "outputs": [],
   "source": []
  }
 ],
 "metadata": {
  "jupytext": {
   "encoding": "# -*- coding: utf-8 -*-",
   "formats": "ipynb,py:light"
  },
  "kernelspec": {
   "display_name": "cook",
   "language": "python",
   "name": "cook"
  },
  "language_info": {
   "codemirror_mode": {
    "name": "ipython",
    "version": 3
   },
   "file_extension": ".py",
   "mimetype": "text/x-python",
   "name": "python",
   "nbconvert_exporter": "python",
   "pygments_lexer": "ipython3",
   "version": "3.7.11"
  }
 },
 "nbformat": 4,
 "nbformat_minor": 5
}
